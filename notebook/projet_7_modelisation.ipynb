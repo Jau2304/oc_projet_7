{
 "cells": [
  {
   "cell_type": "markdown",
   "id": "5b44c747",
   "metadata": {},
   "source": [
    "# Introduction"
   ]
  },
  {
   "cell_type": "markdown",
   "id": "e805c03d",
   "metadata": {},
   "source": [
    "## Importations"
   ]
  },
  {
   "cell_type": "code",
   "execution_count": 1,
   "id": "18555383",
   "metadata": {},
   "outputs": [],
   "source": [
    "import numpy as np\n",
    "import pandas as pd\n",
    "import matplotlib.pyplot as plt\n",
    "\n",
    "import gc\n",
    "import time\n",
    "from contextlib import contextmanager\n",
    "\n",
    "from itertools import product\n",
    "\n",
    "from sklearn.impute import SimpleImputer\n",
    "from sklearn.preprocessing import MinMaxScaler\n",
    "from sklearn.model_selection import train_test_split, KFold, StratifiedKFold\n",
    "\n",
    "from sklearn.dummy import DummyClassifier\n",
    "from sklearn.linear_model import LogisticRegression\n",
    "from sklearn.ensemble import RandomForestClassifier\n",
    "\n",
    "from lightgbm import LGBMClassifier\n",
    "from xgboost import XGBClassifier\n",
    "\n",
    "from imblearn.over_sampling import RandomOverSampler\n",
    "from imblearn.under_sampling import RandomUnderSampler\n",
    "from imblearn.over_sampling import SMOTE\n",
    "\n",
    "import shap\n",
    "\n",
    "import warnings\n",
    "warnings.filterwarnings(\"ignore\")"
   ]
  },
  {
   "cell_type": "code",
   "execution_count": 2,
   "id": "be61228b",
   "metadata": {},
   "outputs": [],
   "source": [
    "@contextmanager\n",
    "def timer(title, p = 3) :\n",
    "    start_time = time.time()\n",
    "    yield\n",
    "    duration = round(time.time() - start_time, p)\n",
    "    print(title, \":\", duration, \"seconde(s)\")"
   ]
  },
  {
   "cell_type": "code",
   "execution_count": 3,
   "id": "53cf277a",
   "metadata": {},
   "outputs": [
    {
     "name": "stdout",
     "output_type": "stream",
     "text": [
      "Temps de chargement des données : 15.155 seconde(s)\n",
      "\n",
      "Dimensions du jeu d'entraînement : (246005, 772)\n",
      "Dimensions du jeu de test : (61502, 772)\n"
     ]
    }
   ],
   "source": [
    "with timer(\"Temps de chargement des données\") :\n",
    "    app_train = pd.read_csv(\"csv/preprocessed/app_train.csv\")\n",
    "    app_test = pd.read_csv(\"csv/preprocessed/app_test.csv\")\n",
    "\n",
    "print(\"\\nDimensions du jeu d'entraînement :\", app_train.shape)\n",
    "print(\"Dimensions du jeu de test :\", app_test.shape)"
   ]
  },
  {
   "cell_type": "markdown",
   "id": "f715e595",
   "metadata": {},
   "source": [
    "## Choix de la métrique"
   ]
  },
  {
   "cell_type": "code",
   "execution_count": 4,
   "id": "ec234859",
   "metadata": {},
   "outputs": [],
   "source": [
    "def rge_score(labels, binary_preds, credit_amounts, interest_ratio = 0.1) :\n",
    "    \n",
    "    expected_gain = 0\n",
    "    effective_gain = 0\n",
    "    \n",
    "    for label, pred, credit_amount in zip(labels, binary_preds, credit_amounts) :\n",
    "        if label == 0 :\n",
    "            expected_gain += interest_ratio * credit_amount\n",
    "            if pred == 0 :\n",
    "                effective_gain += interest_ratio * credit_amount\n",
    "        if label == 1 and pred == 0 :\n",
    "            effective_gain -= credit_amount\n",
    "            \n",
    "    return effective_gain / expected_gain"
   ]
  },
  {
   "cell_type": "code",
   "execution_count": 5,
   "id": "07cace4f",
   "metadata": {},
   "outputs": [
    {
     "name": "stdout",
     "output_type": "stream",
     "text": [
      "Score RGE du uniform dummy classifier sur le jeu de test : 0.09806\n",
      "Score RGE du stratified dummy classifier sur le jeu de test : 0.17617\n",
      "Score RGE du most_frequent dummy classifier sur le jeu de test : 0.18866\n"
     ]
    }
   ],
   "source": [
    "X_train = app_train.drop(columns = [\"TARGET\"])\n",
    "X_test = app_test.drop(columns = [\"TARGET\"])\n",
    "y_train = app_train[\"TARGET\"]\n",
    "y_test = app_test[\"TARGET\"]\n",
    "\n",
    "for strategy in [\"uniform\", \"stratified\", \"most_frequent\"] :\n",
    "    dummy = DummyClassifier(strategy = strategy)\n",
    "    dummy.fit(X_train, y_train)\n",
    "    preds = dummy.predict(X_test)\n",
    "    rge = rge_score(y_test, preds, X_test[\"AMT_CREDIT\"])\n",
    "    print(f\"Score RGE du {strategy} dummy classifier sur le jeu de test : {round(rge, 5)}\")\n",
    "    \n",
    "del X_train, X_test, y_train, y_test, dummy, preds"
   ]
  },
  {
   "cell_type": "markdown",
   "id": "c991f204",
   "metadata": {},
   "source": [
    "## Sélection des features"
   ]
  },
  {
   "cell_type": "code",
   "execution_count": 6,
   "id": "c8160deb",
   "metadata": {},
   "outputs": [],
   "source": [
    "def select_correlated_features(df, max_corr, max_iter, verbose = 1) :\n",
    "\n",
    "    selected_features = []\n",
    "    remaining_features = df.columns.tolist()\n",
    "    remaining_features.remove(\"TARGET\")\n",
    "        \n",
    "    while remaining_features and len(selected_features) < max_iter :\n",
    "        \n",
    "        if verbose > 0 :\n",
    "            print(\"Etape\", len(selected_features) + 1, end = \" : \")\n",
    "            print(len(remaining_features), \"features restantes.\", end = \" \")\n",
    "        \n",
    "        # Sélection de la feature la plus corrélée avec la cible\n",
    "        target_correlations = df[remaining_features].corrwith(df[\"TARGET\"])\n",
    "        most_correlated_feature = target_correlations.abs().idxmax()\n",
    "        selected_features.append(most_correlated_feature)\n",
    "        \n",
    "        print(\"Sélection de\", most_correlated_feature, end = \".\\n\")\n",
    "        \n",
    "        # Suppression de toutes les features qui sont trop corrélées à la feature sélectionnée\n",
    "        feature_correlations = df[remaining_features].corrwith(df[most_correlated_feature])\n",
    "        excluded_features = feature_correlations[feature_correlations.abs() > max_corr].index.tolist()\n",
    "        remaining_features = [feature for feature in remaining_features if feature not in excluded_features]\n",
    "    \n",
    "    return selected_features"
   ]
  },
  {
   "cell_type": "code",
   "execution_count": 7,
   "id": "3d6d508e",
   "metadata": {},
   "outputs": [
    {
     "name": "stdout",
     "output_type": "stream",
     "text": [
      "Etape 1 : 771 features restantes. Sélection de EXT_SOURCE_3.\n",
      "Etape 2 : 770 features restantes. Sélection de EXT_SOURCE_2.\n",
      "Etape 3 : 769 features restantes. Sélection de EXT_SOURCE_1.\n",
      "Etape 4 : 768 features restantes. Sélection de CARD_CNT_DRAWINGS_ATM_CURRENT_MEAN.\n",
      "Etape 5 : 767 features restantes. Sélection de CARD_CNT_DRAWINGS_CURRENT_MAX.\n",
      "Etape 6 : 765 features restantes. Sélection de BUREAU_DAYS_CREDIT_MEAN.\n",
      "Etape 7 : 764 features restantes. Sélection de CARD_AMT_BALANCE_MEAN.\n",
      "Etape 8 : 759 features restantes. Sélection de CARD_CNT_DRAWINGS_CURRENT_MEAN.\n",
      "Etape 9 : 757 features restantes. Sélection de DAYS_BIRTH.\n",
      "Etape 10 : 756 features restantes. Sélection de BUREAU_MONTHS_BALANCE_SIZE_MEAN.\n",
      "Etape 11 : 754 features restantes. Sélection de BUREAU_CREDIT_ACTIVE_CLOSED_MEAN.\n",
      "Etape 12 : 752 features restantes. Sélection de PREV_NAME_CONTRACT_STATUS_REFUSED_MEAN.\n",
      "Etape 13 : 750 features restantes. Sélection de DAYS_EMPLOYED.\n",
      "Etape 14 : 748 features restantes. Sélection de BUREAU_DAYS_CREDIT_MIN.\n",
      "Etape 15 : 744 features restantes. Sélection de CARD_AMT_BALANCE_MAX.\n",
      "Etape 16 : 739 features restantes. Sélection de BUREAU_DAYS_CREDIT_UPDATE_MEAN.\n",
      "Etape 17 : 738 features restantes. Sélection de REFUSED_DAYS_DECISION_MAX.\n",
      "Etape 18 : 736 features restantes. Sélection de CARD_CNT_DRAWINGS_ATM_CURRENT_MAX.\n",
      "Etape 19 : 735 features restantes. Sélection de CARD_AMT_BALANCE_MIN.\n",
      "Etape 20 : 731 features restantes. Sélection de PREV_NAME_CONTRACT_STATUS_APPROVED_MEAN.\n",
      "Etape 21 : 730 features restantes. Sélection de ACTIVE_MONTHS_BALANCE_SIZE_MEAN.\n",
      "Etape 22 : 729 features restantes. Sélection de ACTIVE_DAYS_CREDIT_MEAN.\n",
      "Etape 23 : 728 features restantes. Sélection de CARD_AMT_DRAWINGS_ATM_CURRENT_MEAN.\n",
      "Etape 24 : 727 features restantes. Sélection de CARD_CNT_DRAWINGS_CURRENT_VAR.\n",
      "Etape 25 : 725 features restantes. Sélection de REGION_RATING_CLIENT_W_CITY.\n",
      "Etape 26 : 723 features restantes. Sélection de ACTIVE_DAYS_CREDIT_MAX.\n",
      "Etape 27 : 722 features restantes. Sélection de BUREAU_STATUS_1_MEAN_MEAN.\n",
      "Etape 28 : 721 features restantes. Sélection de CARD_AMT_DRAWINGS_CURRENT_MEAN.\n",
      "Etape 29 : 720 features restantes. Sélection de CARD_MONTHS_BALANCE_MEAN.\n",
      "Etape 30 : 714 features restantes. Sélection de CARD_CNT_DRAWINGS_ATM_CURRENT_VAR.\n",
      "Etape 31 : 713 features restantes. Sélection de CLOSED_DAYS_CREDIT_MEAN.\n",
      "Etape 32 : 712 features restantes. Sélection de PREV_NAME_PRODUCT_TYPE_WALK-IN_MEAN.\n",
      "Etape 33 : 711 features restantes. Sélection de BUREAU_STATUS_C_MEAN_MEAN.\n",
      "Etape 34 : 710 features restantes. Sélection de PREV_CODE_REJECT_REASON_SCOFR_MEAN.\n",
      "Etape 35 : 709 features restantes. Sélection de NAME_INCOME_TYPE_WORKING.\n",
      "Etape 36 : 708 features restantes. Sélection de NAME_EDUCATION_TYPE_HIGHER_EDUCATION.\n",
      "Etape 37 : 707 features restantes. Sélection de PREV_CODE_REJECT_REASON_HC_MEAN.\n",
      "Etape 38 : 706 features restantes. Sélection de CODE_GENDER.\n",
      "Etape 39 : 705 features restantes. Sélection de DAYS_LAST_PHONE_CHANGE.\n",
      "Etape 40 : 704 features restantes. Sélection de CARD_AMT_DRAWINGS_CURRENT_MAX.\n",
      "Etape 41 : 703 features restantes. Sélection de REG_CITY_NOT_WORK_CITY.\n",
      "Etape 42 : 702 features restantes. Sélection de CARD_CNT_DRAWINGS_CURRENT_SUM.\n",
      "Etape 43 : 700 features restantes. Sélection de REFUSED_HOUR_APPR_PROCESS_START_MIN.\n",
      "Etape 44 : 698 features restantes. Sélection de CARD_CNT_DRAWINGS_ATM_CURRENT_SUM.\n",
      "Etape 45 : 697 features restantes. Sélection de APPROVED_DAYS_DECISION_MIN.\n",
      "Etape 46 : 695 features restantes. Sélection de BUREAU_DAYS_CREDIT_MAX.\n",
      "Etape 47 : 694 features restantes. Sélection de DAYS_ID_PUBLISH.\n",
      "Etape 48 : 693 features restantes. Sélection de REFUSED_DAYS_DECISION_MIN.\n",
      "Etape 49 : 692 features restantes. Sélection de NAME_EDUCATION_TYPE_SECONDARY.\n",
      "Etape 50 : 691 features restantes. Sélection de NAME_INCOME_TYPE_PENSIONER.\n",
      "Etape 51 : 687 features restantes. Sélection de APPROVED_AMT_ANNUITY_MEAN.\n",
      "Etape 52 : 685 features restantes. Sélection de PREV_DAYS_DECISION_MEAN.\n",
      "Etape 53 : 683 features restantes. Sélection de APPROVED_AMT_ANNUITY_MAX.\n",
      "Etape 54 : 681 features restantes. Sélection de REG_CITY_NOT_LIVE_CITY.\n",
      "Etape 55 : 680 features restantes. Sélection de BUREAU_DAYS_CREDIT_ENDDATE_MEAN.\n",
      "Etape 56 : 679 features restantes. Sélection de FLAG_DOCUMENT_3.\n",
      "Etape 57 : 678 features restantes. Sélection de CARD_AMT_CREDIT_LIMIT_ACTUAL_SUM.\n",
      "Etape 58 : 677 features restantes. Sélection de FLOORSMAX_AVG.\n",
      "Etape 59 : 674 features restantes. Sélection de BUREAU_CREDIT_TYPE_MICROLOAN_MEAN.\n",
      "Etape 60 : 673 features restantes. Sélection de BUREAU_STATUS_0_MEAN_MEAN.\n",
      "Etape 61 : 672 features restantes. Sélection de APPROVED_HOUR_APPR_PROCESS_START_MAX.\n",
      "Etape 62 : 670 features restantes. Sélection de ACTIVE_DAYS_CREDIT_ENDDATE_MAX.\n",
      "Etape 63 : 668 features restantes. Sélection de CARD_AMT_INST_MIN_REGULARITY_VAR.\n",
      "Etape 64 : 663 features restantes. Sélection de OCCUPATION_TYPE_LABORERS.\n",
      "Etape 65 : 662 features restantes. Sélection de PREV_NAME_YIELD_GROUP_XNA_MEAN.\n",
      "Etape 66 : 661 features restantes. Sélection de INSTAL_DAYS_ENTRY_PAYMENT_MEAN.\n",
      "Etape 67 : 659 features restantes. Sélection de ACTIVE_DAYS_CREDIT_MIN.\n",
      "Etape 68 : 657 features restantes. Sélection de PREV_NAME_YIELD_GROUP_LOW_NORMAL_MEAN.\n",
      "Etape 69 : 656 features restantes. Sélection de DAYS_REGISTRATION.\n",
      "Etape 70 : 655 features restantes. Sélection de EMERGENCYSTATE_MODE_NO.\n",
      "Etape 71 : 653 features restantes. Sélection de PREV_CODE_REJECT_REASON_LIMIT_MEAN.\n",
      "Etape 72 : 652 features restantes. Sélection de REFUSED_RATE_DOWN_PAYMENT_MEAN.\n",
      "Etape 73 : 649 features restantes. Sélection de PREV_PRODUCT_COMBINATION_CARD_STREET_MEAN.\n",
      "Etape 74 : 648 features restantes. Sélection de AMT_GOODS_PRICE.\n",
      "Etape 75 : 646 features restantes. Sélection de PREV_NAME_YIELD_GROUP_HIGH_MEAN.\n",
      "Etape 76 : 645 features restantes. Sélection de CARD_CNT_INSTALMENT_MATURE_CUM_SUM.\n",
      "Etape 77 : 642 features restantes. Sélection de APPROVED_RATE_DOWN_PAYMENT_MAX.\n",
      "Etape 78 : 640 features restantes. Sélection de CARD_AMT_DRAWINGS_ATM_CURRENT_SUM.\n",
      "Etape 79 : 639 features restantes. Sélection de PREV_PRODUCT_COMBINATION_CASH_X-SELL_LOW_MEAN.\n",
      "Etape 80 : 638 features restantes. Sélection de PREV_NAME_CONTRACT_TYPE_REVOLVING_MEAN.\n",
      "Etape 81 : 636 features restantes. Sélection de OWN_CAR_AGE.\n",
      "Etape 82 : 635 features restantes. Sélection de CLOSED_DAYS_CREDIT_UPDATE_MEAN.\n",
      "Etape 83 : 634 features restantes. Sélection de REGION_POPULATION_RELATIVE.\n",
      "Etape 84 : 633 features restantes. Sélection de BUREAU_DAYS_CREDIT_VAR.\n",
      "Etape 85 : 632 features restantes. Sélection de PREV_HOUR_APPR_PROCESS_START_MEAN.\n",
      "Etape 86 : 630 features restantes. Sélection de ACTIVE_DAYS_CREDIT_VAR.\n",
      "Etape 87 : 629 features restantes. Sélection de PREV_APP_CREDIT_PERC_MEAN.\n",
      "Etape 88 : 627 features restantes. Sélection de PREV_PRODUCT_COMBINATION_POS_INDUSTRY_WITH_INTEREST_MEAN.\n",
      "Etape 89 : 626 features restantes. Sélection de PREV_AMT_ANNUITY_MIN.\n",
      "Etape 90 : 624 features restantes. Sélection de PREV_CHANNEL_TYPE_AP+_MEAN.\n",
      "Etape 91 : 623 features restantes. Sélection de REFUSED_CNT_PAYMENT_SUM.\n",
      "Etape 92 : 622 features restantes. Sélection de BUREAU_CREDIT_TYPE_CARD_MEAN.\n",
      "Etape 93 : 621 features restantes. Sélection de ELEVATORS_AVG.\n",
      "Etape 94 : 618 features restantes. Sélection de APPROVED_APP_CREDIT_PERC_MAX.\n",
      "Etape 95 : 616 features restantes. Sélection de LIVE_CITY_NOT_WORK_CITY.\n",
      "Etape 96 : 615 features restantes. Sélection de FLOORSMIN_AVG.\n",
      "Etape 97 : 612 features restantes. Sélection de PREV_NAME_PAYMENT_TYPE_XNA_MEAN.\n",
      "Etape 98 : 610 features restantes. Sélection de REFUSED_AMT_APPLICATION_MIN.\n",
      "Etape 99 : 607 features restantes. Sélection de PREV_NAME_PORTFOLIO_POS_MEAN.\n",
      "Etape 100 : 604 features restantes. Sélection de REFUSED_AMT_ANNUITY_MIN.\n",
      "Temps de traitement : 573.395 seconde(s)\n"
     ]
    }
   ],
   "source": [
    "max_corr = 0.9\n",
    "max_iter = 100\n",
    "\n",
    "with timer(\"Temps de traitement\") :\n",
    "    selected_features = select_correlated_features(app_train, max_corr, max_iter)"
   ]
  },
  {
   "cell_type": "code",
   "execution_count": 8,
   "id": "155cbf63",
   "metadata": {},
   "outputs": [],
   "source": [
    "with open(\"selected_features.txt\", \"w\") as file :\n",
    "    for feature in selected_features :\n",
    "        file.write(feature + \"\\n\")"
   ]
  },
  {
   "cell_type": "code",
   "execution_count": 9,
   "id": "cf620149",
   "metadata": {},
   "outputs": [],
   "source": [
    "correlations_with_target = app_train[selected_features].corrwith(app_train[\"TARGET\"])\n",
    "correlations_with_target_sorted = correlations_with_target.abs().sort_values(ascending = False)\n",
    "correlations_with_target_sorted.head(10)\n",
    "\n",
    "del correlations_with_target, correlations_with_target_sorted"
   ]
  },
  {
   "cell_type": "code",
   "execution_count": 7,
   "id": "028731bf",
   "metadata": {},
   "outputs": [],
   "source": [
    "with open(\"selected_features.txt\", \"r\") as file :\n",
    "    lines = file.readlines()\n",
    "\n",
    "selected_features = [line.strip() for line in lines]"
   ]
  },
  {
   "cell_type": "code",
   "execution_count": 8,
   "id": "92abf744",
   "metadata": {},
   "outputs": [],
   "source": [
    "selected_data = {\n",
    "    \"X_train\" : app_train[selected_features].copy(),\n",
    "    \"X_test\" : app_test[selected_features].copy(),\n",
    "    \"y_train\" : app_train[\"TARGET\"].copy(),\n",
    "    \"y_test\" : app_test[\"TARGET\"].copy(),\n",
    "    \"amt_train\" : app_train[\"AMT_CREDIT\"].copy(),\n",
    "    \"amt_test\" : app_test[\"AMT_CREDIT\"].copy()\n",
    "}\n",
    "\n",
    "del app_train, app_test"
   ]
  },
  {
   "cell_type": "markdown",
   "id": "f2c97312",
   "metadata": {},
   "source": [
    "# Construction d'un modèle"
   ]
  },
  {
   "cell_type": "markdown",
   "id": "4234d168",
   "metadata": {},
   "source": [
    "## Prétraitement des données"
   ]
  },
  {
   "cell_type": "code",
   "execution_count": 9,
   "id": "e0cf723f",
   "metadata": {},
   "outputs": [],
   "source": [
    "def preprocess_data(input_data) :\n",
    "    \n",
    "    # Copie des données originales\n",
    "    data = {name : df.copy() for (name, df) in input_data.items()}\n",
    "    \n",
    "    # Abandon des éventuelles colonnes n'ayant qu'une seule valeur\n",
    "    columns_to_drop = data[\"X_train\"].columns[data[\"X_train\"].nunique() == 1]\n",
    "    X_train_cleaned = data[\"X_train\"].drop(columns = columns_to_drop)\n",
    "    X_test_cleaned = data[\"X_test\"].drop(columns = columns_to_drop)\n",
    "    \n",
    "    # Imputation des valeurs manquantes par la médiane\n",
    "    imputer = SimpleImputer(strategy = \"median\")\n",
    "    X_train_imputed = imputer.fit_transform(X_train_cleaned)\n",
    "    X_test_imputed = imputer.transform(X_test_cleaned)\n",
    "    \n",
    "    # Normalisation des valeurs\n",
    "    scaler = MinMaxScaler()\n",
    "    X_train_scaled = scaler.fit_transform(X_train_imputed)\n",
    "    X_test_scaled = scaler.transform(X_test_imputed)\n",
    "    \n",
    "    # Réattribution des noms des colonnes\n",
    "    data[\"X_train\"] = pd.DataFrame(X_train_scaled, columns = X_train_cleaned.columns)\n",
    "    data[\"X_test\"] = pd.DataFrame(X_test_scaled, columns = X_test_cleaned.columns)\n",
    "    \n",
    "    return data"
   ]
  },
  {
   "cell_type": "code",
   "execution_count": 10,
   "id": "ea3cf220",
   "metadata": {},
   "outputs": [
    {
     "name": "stdout",
     "output_type": "stream",
     "text": [
      "Temps de prétraitement : 3.396 seconde(s)\n",
      "X_train : (246005, 100)\n",
      "X_test : (61502, 100)\n",
      "y_train : (246005,)\n",
      "y_test : (61502,)\n",
      "amt_train : (246005,)\n",
      "amt_test : (61502,)\n"
     ]
    }
   ],
   "source": [
    "with timer(\"Temps de prétraitement\") :\n",
    "    processed_data = preprocess_data(selected_data)\n",
    "\n",
    "for name, df in processed_data.items() :\n",
    "    print(name, \":\", df.shape)"
   ]
  },
  {
   "cell_type": "markdown",
   "id": "3435995d",
   "metadata": {},
   "source": [
    "## LightGBM"
   ]
  },
  {
   "cell_type": "code",
   "execution_count": 11,
   "id": "f495b03c",
   "metadata": {},
   "outputs": [],
   "source": [
    "lgbm_params = {\n",
    "    \"boosting_type\": \"gbdt\",\n",
    "    \"objective\": \"binary\",\n",
    "    \"num_leaves\" : 30,\n",
    "    \"learning_rate\" : 0.05,\n",
    "    \"feature_fraction\" : 0.9,\n",
    "    \"bagging_fraction\" : 0.8, \n",
    "    \"bagging_freq\" : 5,\n",
    "    \"n_estimators\" : 100,\n",
    "    \"verbose\" : -1,\n",
    "    \"random_state\" : 42\n",
    "}\n",
    "\n",
    "lgbm_clf = LGBMClassifier(**lgbm_params)"
   ]
  },
  {
   "cell_type": "code",
   "execution_count": 12,
   "id": "70aaeb35",
   "metadata": {},
   "outputs": [
    {
     "name": "stdout",
     "output_type": "stream",
     "text": [
      "--- Baseline (LogisticRegression) ---\n",
      "Score RGE sur le jeu d'entraînement : 0.19731\n",
      "Score RGE sur le jeu de test : 0.19657\n"
     ]
    }
   ],
   "source": [
    "lgbm_clf.fit(processed_data[\"X_train\"], processed_data[\"y_train\"])\n",
    "\n",
    "preds_train = lgbm_clf.predict(processed_data[\"X_train\"])\n",
    "preds_test = lgbm_clf.predict(processed_data[\"X_test\"])\n",
    "\n",
    "rge_train = rge_score(processed_data[\"y_train\"], preds_train, processed_data[\"amt_train\"])\n",
    "rge_test = rge_score(processed_data[\"y_test\"], preds_test, processed_data[\"amt_test\"])\n",
    "\n",
    "print(\"--- Baseline (LogisticRegression) ---\")\n",
    "print(f\"Score RGE sur le jeu d'entraînement : {round(rge_train, 5)}\")\n",
    "print(f\"Score RGE sur le jeu de test : {round(rge_test, 5)}\")"
   ]
  },
  {
   "cell_type": "code",
   "execution_count": 13,
   "id": "2d3b0215",
   "metadata": {},
   "outputs": [
    {
     "name": "stdout",
     "output_type": "stream",
     "text": [
      "--- LogisticRegression ---\n",
      "Seuil d'acceptation : 0.5\n",
      "Score RGE sur le jeu d'entraînement : 0.19731\n",
      "Score RGE sur le jeu de test : 0.19657\n"
     ]
    }
   ],
   "source": [
    "proba_preds_train = lgbm_clf.predict_proba(processed_data[\"X_train\"])[:, 1]\n",
    "proba_preds_test = lgbm_clf.predict_proba(processed_data[\"X_test\"])[:, 1]\n",
    "\n",
    "binary_preds_train = (proba_preds_train >= 0.5).astype(int)\n",
    "binary_preds_test = (proba_preds_test >= 0.5).astype(int)\n",
    "\n",
    "rge_train = rge_score(processed_data[\"y_train\"], binary_preds_train, processed_data[\"amt_train\"])\n",
    "rge_test = rge_score(processed_data[\"y_test\"], binary_preds_test, processed_data[\"amt_test\"])\n",
    "\n",
    "print(\"--- LogisticRegression ---\")\n",
    "print(\"Seuil d'acceptation : 0.5\")\n",
    "print(f\"Score RGE sur le jeu d'entraînement : {round(rge_train, 5)}\")\n",
    "print(f\"Score RGE sur le jeu de test : {round(rge_test, 5)}\")"
   ]
  },
  {
   "cell_type": "code",
   "execution_count": 14,
   "id": "7a645bf4",
   "metadata": {},
   "outputs": [
    {
     "name": "stdout",
     "output_type": "stream",
     "text": [
      "--- LogisticRegression ---\n",
      "Seuil d'acceptation : 0.2\n",
      "Score RGE sur le jeu d'entraînement : 0.37115\n",
      "Score RGE sur le jeu de test : 0.34598\n"
     ]
    }
   ],
   "source": [
    "binary_preds_train = (proba_preds_train >= 0.2).astype(int)\n",
    "binary_preds_test = (proba_preds_test >= 0.2).astype(int)\n",
    "\n",
    "rge_train = rge_score(processed_data[\"y_train\"], binary_preds_train, processed_data[\"amt_train\"])\n",
    "rge_test = rge_score(processed_data[\"y_test\"], binary_preds_test, processed_data[\"amt_test\"])\n",
    "\n",
    "print(\"--- LogisticRegression ---\")\n",
    "print(\"Seuil d'acceptation : 0.2\")\n",
    "print(f\"Score RGE sur le jeu d'entraînement : {round(rge_train, 5)}\")\n",
    "print(f\"Score RGE sur le jeu de test : {round(rge_test, 5)}\")"
   ]
  },
  {
   "cell_type": "markdown",
   "id": "8ebdc767",
   "metadata": {},
   "source": [
    "## Optimisation du seuil d'acceptation"
   ]
  },
  {
   "cell_type": "code",
   "execution_count": 15,
   "id": "130a4a78",
   "metadata": {},
   "outputs": [],
   "source": [
    "def get_rge_by_acceptance(labels, proba_preds, credit_amounts) :\n",
    "    \n",
    "    acceptance_values = np.linspace(0, 1, 100)\n",
    "    rge_values = []\n",
    "    \n",
    "    for acceptance in acceptance_values :\n",
    "        binary_preds = (proba_preds >= acceptance).astype(int)\n",
    "        rge = rge_score(labels, binary_preds, credit_amounts)\n",
    "        rge_values.append(rge)\n",
    "    \n",
    "    return acceptance_values, rge_values"
   ]
  },
  {
   "cell_type": "code",
   "execution_count": 16,
   "id": "64ace328",
   "metadata": {},
   "outputs": [],
   "source": [
    "def plot_rge_by_acceptance(acceptance_values, rge_values) :\n",
    "    \n",
    "    plt.figure(figsize = (5, 3))\n",
    "    plt.plot(acceptance_values, rge_values)\n",
    "    \n",
    "    plt.xlabel(\"Seuil d'acceptation\")\n",
    "    plt.ylabel(f\"Score RGE\")\n",
    "    plt.title(\"Score RGE par seuil d'acceptation\")\n",
    "    plt.grid(True)\n",
    "    \n",
    "    plt.show()"
   ]
  },
  {
   "cell_type": "code",
   "execution_count": 18,
   "id": "f469b5c3",
   "metadata": {},
   "outputs": [
    {
     "data": {
      "image/png": "[encoded data removed]",
      "text/plain": [
       "<Figure size 500x300 with 1 Axes>"
      ]
     },
     "metadata": {},
     "output_type": "display_data"
    }
   ],
   "source": [
    "acceptance_values, rge_values = get_rge_by_acceptance(\n",
    "    labels = processed_data[\"y_train\"],\n",
    "    proba_preds = proba_preds_train,\n",
    "    credit_amounts = processed_data[\"amt_train\"]\n",
    ")\n",
    "\n",
    "plot_rge_by_acceptance(acceptance_values, rge_values)\n",
    "\n",
    "del preds_train, preds_test, proba_preds_train, proba_preds_test,\n",
    "del binary_preds_train, binary_preds_test, acceptance_values, rge_values"
   ]
  },
  {
   "cell_type": "code",
   "execution_count": 28,
   "id": "450216eb",
   "metadata": {},
   "outputs": [],
   "source": [
    "def apply_classifier(data, classifier) :\n",
    "\n",
    "    classifier.fit(data[\"X_train\"], data[\"y_train\"])\n",
    "\n",
    "    preds = {\"proba_train\" : classifier.predict_proba(data[\"X_train\"])[:, 1],\n",
    "             \"proba_test\" : classifier.predict_proba(data[\"X_test\"])[:, 1]}\n",
    "\n",
    "    acceptance_values, rge_values = get_rge_by_acceptance(data[\"y_train\"], preds[\"proba_train\"], data[\"amt_train\"])\n",
    "    preds[\"acceptance_curve\"] = (acceptance_values, rge_values)\n",
    "    preds[\"acceptance\"] = acceptance_values[np.argmax(rge_values)]\n",
    "    \n",
    "    preds[\"binary_train\"] = (preds[\"proba_train\"] >= preds[\"acceptance\"]).astype(int)\n",
    "    preds[\"binary_test\"] = (preds[\"proba_test\"] >= preds[\"acceptance\"]).astype(int)\n",
    "\n",
    "    return preds"
   ]
  },
  {
   "cell_type": "code",
   "execution_count": 38,
   "id": "937a7ff4",
   "metadata": {},
   "outputs": [],
   "source": [
    "def apply_classifier_v2(data, classifier) :\n",
    "\n",
    "    classifier.fit(data[\"X_train\"], data[\"y_train\"])\n",
    "\n",
    "    preds = {\"proba_train\" : classifier.predict_proba(data[\"X_train\"])[:, 1],\n",
    "             \"proba_test\" : classifier.predict_proba(data[\"X_test\"])[:, 1]}\n",
    "\n",
    "    acceptance_values, rge_values = get_rge_by_acceptance(data[\"y_train\"], preds[\"proba_train\"], data[\"amt_train\"])\n",
    "    preds[\"acceptance_curve\"] = (acceptance_values, rge_values)\n",
    "    preds[\"acceptance\"] = 0.5\n",
    "    \n",
    "    preds[\"binary_train\"] = (preds[\"proba_train\"] >= preds[\"acceptance\"]).astype(int)\n",
    "    preds[\"binary_test\"] = (preds[\"proba_test\"] >= preds[\"acceptance\"]).astype(int)\n",
    "\n",
    "    return preds"
   ]
  },
  {
   "cell_type": "code",
   "execution_count": 39,
   "id": "fbeaef79",
   "metadata": {},
   "outputs": [],
   "source": [
    "def evaluate_preds(data, preds, display_results = True, display_curve = False) :\n",
    "    \n",
    "    rge_train = rge_score(data[\"y_train\"], preds[\"binary_train\"], data[\"amt_train\"])\n",
    "    rge_test = rge_score(data[\"y_test\"], preds[\"binary_test\"], data[\"amt_test\"])\n",
    "    \n",
    "    if display_results :\n",
    "        print(\"Seuil d'acceptation :\", round(preds[\"acceptance\"], 2))\n",
    "        print(f\"Score RGE sur le jeu d'entraînement : {round(rge_train, 5)}\")\n",
    "        print(f\"Score RGE sur le jeu de test : {round(rge_test, 5)}\")\n",
    "    \n",
    "    if display_curve :\n",
    "        acceptance_values, rge_values = preds[\"acceptance_curve\"]\n",
    "        plot_rge_by_acceptance(acceptance_values, rge_values)\n",
    "        \n",
    "    return rge_train, rge_test"
   ]
  },
  {
   "cell_type": "code",
   "execution_count": 31,
   "id": "1be3a773",
   "metadata": {},
   "outputs": [
    {
     "name": "stdout",
     "output_type": "stream",
     "text": [
      "--- LogisticRegression ---\n",
      "Seuil d'acceptation : 0.09\n",
      "Score RGE sur le jeu d'entraînement : 0.47914\n",
      "Score RGE sur le jeu de test : 0.45759\n"
     ]
    }
   ],
   "source": [
    "preds = apply_classifier(processed_data, lgbm_clf)\n",
    "\n",
    "print(\"--- LogisticRegression ---\")\n",
    "rge_train, rge_test = evaluate_preds(processed_data, preds)"
   ]
  },
  {
   "cell_type": "markdown",
   "id": "f4a5b6c7",
   "metadata": {},
   "source": [
    "## Méthodes d'équilibrage"
   ]
  },
  {
   "cell_type": "code",
   "execution_count": 40,
   "id": "36e271b0",
   "metadata": {},
   "outputs": [],
   "source": [
    "def balance_sample(X_train, y_train, strategy) :\n",
    "\n",
    "    if strategy == \"over\" :\n",
    "        oversampler = RandomOverSampler(random_state = 42)\n",
    "        return oversampler.fit_resample(X_train, y_train)\n",
    "    \n",
    "    if strategy == \"under\" :\n",
    "        undersampler = RandomUnderSampler(random_state = 42)\n",
    "        return undersampler.fit_resample(X_train, y_train)\n",
    "    \n",
    "    if strategy == \"smote\" :\n",
    "        smote = SMOTE(random_state = 42)\n",
    "        return smote.fit_resample(X_train, y_train)"
   ]
  },
  {
   "cell_type": "code",
   "execution_count": 41,
   "id": "d85e2096",
   "metadata": {},
   "outputs": [],
   "source": [
    "def preprocess_with_balancing(input_data, strategy) :\n",
    "    \n",
    "    # Cas du prétraitement sans équilibrage\n",
    "    if strategy not in [\"over\", \"under\", \"smote\"] :\n",
    "        return preprocess_data(input_data)\n",
    "    \n",
    "    # Copie des données originales\n",
    "    data = {name : df.copy() for (name, df) in input_data.items()}\n",
    "\n",
    "    # Imputation des valeurs manquantes et réattribution des noms des colonnes\n",
    "    imputer = SimpleImputer(strategy = \"median\")\n",
    "    X_train_imputed = pd.DataFrame(imputer.fit_transform(input_data[\"X_train\"]), columns = data[\"X_train\"].columns)\n",
    "    X_test_imputed = pd.DataFrame(imputer.transform(data[\"X_test\"]), columns = data[\"X_test\"].columns)\n",
    "    \n",
    "    # Application de la méthode d'équilibrage\n",
    "    X_train_imputed[\"AMT_CREDIT\"] = data[\"amt_train\"]\n",
    "    X_train_balanced, data[\"y_train\"] = balance_sample(X_train_imputed, data[\"y_train\"], strategy)\n",
    "    data[\"amt_train\"] = X_train_balanced.pop(\"AMT_CREDIT\")\n",
    "    \n",
    "    # Abandon des éventuelles colonnes n'ayant qu'une seule valeur\n",
    "    columns_to_drop = X_train_balanced.columns[X_train_balanced.nunique() == 1]\n",
    "    X_test_cleaned = X_test_imputed.drop(columns = columns_to_drop)\n",
    "    X_train_cleaned = X_train_balanced.drop(columns = columns_to_drop)\n",
    "    \n",
    "    # Normalisation des valeurs et réattribution des noms des colonnes\n",
    "    scaler = MinMaxScaler()\n",
    "    data[\"X_train\"] = pd.DataFrame(scaler.fit_transform(X_train_cleaned), columns = X_train_cleaned.columns)\n",
    "    data[\"X_test\"] = pd.DataFrame(scaler.transform(X_test_cleaned), columns = X_test_cleaned.columns)\n",
    "    \n",
    "    return data"
   ]
  },
  {
   "cell_type": "code",
   "execution_count": 34,
   "id": "1c95c138",
   "metadata": {},
   "outputs": [
    {
     "name": "stdout",
     "output_type": "stream",
     "text": [
      "--- Oversampling ---\n",
      "Temps de traitement : 4.554 seconde(s)\n",
      "X_train : (452290, 100)\n",
      "X_test : (61502, 100)\n",
      "y_train : (452290,)\n",
      "y_test : (61502,)\n",
      "amt_train : (452290,)\n",
      "amt_test : (61502,)\n",
      "\n",
      "--- Undersampling ---\n",
      "Temps de traitement (undersampling) : 3.057 seconde(s)\n",
      "X_train : (39720, 100)\n",
      "X_test : (61502, 100)\n",
      "y_train : (39720,)\n",
      "y_test : (61502,)\n",
      "amt_train : (39720,)\n",
      "amt_test : (61502,)\n",
      "\n",
      "--- SMOTE ---\n",
      "Temps de traitement (SMOTE) : 6.002 seconde(s)\n",
      "X_train : (452290, 100)\n",
      "X_test : (61502, 100)\n",
      "y_train : (452290,)\n",
      "y_test : (61502,)\n",
      "amt_train : (452290,)\n",
      "amt_test : (61502,)\n"
     ]
    }
   ],
   "source": [
    "gc.collect()\n",
    "\n",
    "print(\"--- Oversampling ---\")\n",
    "with timer(\"Temps de traitement\") :\n",
    "    data_over = preprocess_with_balancing(selected_data, strategy = \"over\")\n",
    "    \n",
    "for name, df in data_over.items() :\n",
    "    print(name, \":\", df.shape)\n",
    "    \n",
    "print(\"\\n--- Undersampling ---\")\n",
    "with timer(\"Temps de traitement (undersampling)\") :\n",
    "    data_under = preprocess_with_balancing(selected_data, strategy = \"under\")\n",
    "    \n",
    "for name, df in data_under.items() :\n",
    "    print(name, \":\", df.shape)\n",
    "\n",
    "print(\"\\n--- SMOTE ---\")\n",
    "with timer(\"Temps de traitement (SMOTE)\") :\n",
    "    data_smote = preprocess_with_balancing(selected_data, strategy = \"smote\")\n",
    "    \n",
    "for name, df in data_smote.items() :\n",
    "    print(name, \":\", df.shape)"
   ]
  },
  {
   "cell_type": "code",
   "execution_count": 43,
   "id": "824da8cd",
   "metadata": {},
   "outputs": [
    {
     "name": "stdout",
     "output_type": "stream",
     "text": [
      "\n",
      "--- LogisticRegression (oversampling) ---\n",
      "Seuil d'acceptation : 0.5\n",
      "Score RGE sur le jeu d'entraînement : -2.27373\n",
      "Score RGE sur le jeu de test : 0.4665\n",
      "\n",
      "--- LogisticRegression (undersampling) ---\n",
      "Seuil d'acceptation : 0.5\n",
      "Score RGE sur le jeu d'entraînement : -2.20871\n",
      "Score RGE sur le jeu de test : 0.45599\n",
      "\n",
      "--- LogisticRegression (SMOTE) ---\n",
      "Seuil d'acceptation : 0.5\n",
      "Score RGE sur le jeu d'entraînement : 0.09676\n",
      "Score RGE sur le jeu de test : 0.19236\n"
     ]
    }
   ],
   "source": [
    "gc.collect()\n",
    "\n",
    "data_selector = {\n",
    "    \"oversampling\" : data_over,\n",
    "    \"undersampling\" : data_under,\n",
    "    \"SMOTE\" : data_smote,\n",
    "}\n",
    "\n",
    "for (data_name, data) in data_selector.items() :\n",
    "    print(f\"\\n--- LogisticRegression ({data_name}) ---\")\n",
    "    preds = apply_classifier_v2(data, lgbm_clf)\n",
    "    rge_train, rge_test = evaluate_preds(data, preds)"
   ]
  },
  {
   "cell_type": "markdown",
   "id": "94c43763",
   "metadata": {},
   "source": [
    "# Recherche d'hyperparamètres"
   ]
  },
  {
   "cell_type": "markdown",
   "id": "08f907e4",
   "metadata": {},
   "source": [
    "## Validation croisée"
   ]
  },
  {
   "cell_type": "code",
   "execution_count": null,
   "id": "65c65a38",
   "metadata": {},
   "outputs": [],
   "source": [
    "def preprocess_folds(X, y, preprocessor, n_folds = 5, stratify = True, verbose = 1) :\n",
    "    \n",
    "    if stratify :\n",
    "        folds = StratifiedKFold(n_splits = n_folds, shuffle = True, random_state = 42)\n",
    "    else :\n",
    "        folds = KFold(n_splits = n_folds, shuffle = True, random_state = 42)\n",
    "    \n",
    "    folds_data = []\n",
    "    \n",
    "    for fold, (train_index, valid_index) in enumerate(folds.split(X, y)) :\n",
    "        \n",
    "        if verbose > 0 :\n",
    "            print(f\"Prétraitement du fold {fold + 1}/{n_folds}.\")\n",
    "            \n",
    "        X_train, X_valid = X.loc[train_index], X.loc[valid_index]\n",
    "        y_train, y_valid = y[train_index], y[valid_index]\n",
    "        \n",
    "        data = preprocessor(X_train, X_valid, y_train, y_valid)\n",
    "        folds_data.append(data)\n",
    "    \n",
    "    if verbose > 0 :\n",
    "        print(\"Prétraitement terminé.\")\n",
    "    \n",
    "    return folds_data"
   ]
  },
  {
   "cell_type": "code",
   "execution_count": null,
   "id": "4d1625cc",
   "metadata": {},
   "outputs": [],
   "source": [
    "def standard_preprocessor(X_train, X_valid, y_train, y_valid) :\n",
    "    df_train = X_train.assign(**{\"TARGET\" : y_train})\n",
    "    df_test = X_valid.assign(**{\"TARGET\" : y_valid})\n",
    "    return preprocess_data(df_train, df_test, selected_features = X_train.columns)\n",
    "\n",
    "def oversampling_preprocessor(X_train, X_valid, y_train, y_valid) :\n",
    "    return preprocess_with_balancing(X_train, X_valid, y_train, y_valid, strategy = \"over\")\n",
    "\n",
    "def undersampling_preprocessor(X_train, X_valid, y_train, y_valid) :\n",
    "    return preprocess_with_balancing(X_train, X_valid, y_train, y_valid, strategy = \"under\")\n",
    "\n",
    "def smote_preprocessor(X_train, X_valid, y_train, y_valid) :\n",
    "    return preprocess_with_balancing(X_train, X_valid, y_train, y_valid, strategy = \"smote\")"
   ]
  },
  {
   "cell_type": "code",
   "execution_count": null,
   "id": "8b51a97c",
   "metadata": {},
   "outputs": [],
   "source": [
    "X = app_train.drop(columns = [\"SK_ID_CURR\", \"TARGET\"])\n",
    "y = app_train[\"TARGET\"].copy()\n",
    "\n",
    "print(\"--- Prétraitement des folds (standard) ---\")\n",
    "folds_data_standard = preprocess_folds(X, y, standard_preprocessor)\n",
    "\n",
    "print(\"--- Prétraitement des folds (oversampling) ---\")\n",
    "folds_data_over = preprocess_folds(X, y, oversampling_preprocessor)\n",
    "\n",
    "print(\"--- Prétraitement des folds (undersampling) ---\")\n",
    "folds_data_under = preprocess_folds(X, y, undersampling_preprocessor)\n",
    "\n",
    "print(\"--- Prétraitement des folds (SMOTE) ---\")\n",
    "folds_data_smote = preprocess_folds(X, y, smote_preprocessor)\n",
    "\n",
    "del X, y"
   ]
  },
  {
   "cell_type": "code",
   "execution_count": null,
   "id": "3b2377b7",
   "metadata": {},
   "outputs": [],
   "source": [
    "def cross_validation(folds_data, classifier, verbose = 2) :\n",
    "    \n",
    "    scores = []\n",
    "    \n",
    "    for fold, data in enumerate(folds_data) :\n",
    "        \n",
    "        preds = apply_classifier(data, classifier)\n",
    "        rge_train, rge_valid = evaluate_preds(data, preds, display_results = False)\n",
    "        scores.append(rge_valid)\n",
    "\n",
    "        if verbose > 1 :\n",
    "            print(\"Score RGE sur le fold \", fold + 1, \"/\", len(folds_data), \" : \", round(rge_valid, 5), sep = \"\")\n",
    "\n",
    "    scores.insert(0, np.mean(scores))\n",
    "    \n",
    "    if verbose > 0 :\n",
    "        print(\"Score RGE moyen : \", round(scores[0], 5))\n",
    "\n",
    "    return scores"
   ]
  },
  {
   "cell_type": "code",
   "execution_count": null,
   "id": "2dd0a142",
   "metadata": {},
   "outputs": [],
   "source": [
    "print(\"--- Logistic Regression (standard preprocessing) ---\")\n",
    "cv_scores = cross_validation(folds_data_standard, LogisticRegression())"
   ]
  },
  {
   "cell_type": "markdown",
   "id": "07cde5b4",
   "metadata": {},
   "source": [
    "## Grille de recherche"
   ]
  },
  {
   "cell_type": "code",
   "execution_count": null,
   "id": "e380ae24",
   "metadata": {},
   "outputs": [],
   "source": [
    "def generate_param_combinations(param_grid) :\n",
    "    \n",
    "    keys = param_grid.keys()\n",
    "    values = param_grid.values()\n",
    "    \n",
    "    return [dict(zip(keys, value)) for value in product(*values)]"
   ]
  },
  {
   "cell_type": "code",
   "execution_count": null,
   "id": "2880584b",
   "metadata": {},
   "outputs": [],
   "source": [
    "def grid_search(folds_data, classifier_builder, param_grid, verbose = 1) :\n",
    "\n",
    "    param_combinations = generate_param_combinations(param_grid)\n",
    "    \n",
    "    if verbose > 0 :\n",
    "        print(\"Lancement de la grille de recherche sur\", len(param_combinations), \"jeux de paramètres.\")\n",
    "\n",
    "    best_score = float(\"-inf\")\n",
    "    best_params = None\n",
    "\n",
    "    for step, params in enumerate(param_combinations) :\n",
    "        \n",
    "        if verbose > 0 :\n",
    "            print(\"\\nEtape \", step + 1, \"/\", len(param_combinations), sep = \"\")\n",
    "        \n",
    "        if verbose > 1 :\n",
    "            print(params, sep = \"\")\n",
    "        \n",
    "        classifier = classifier_builder(params)\n",
    "        scores = cross_validation(folds_data, classifier, verbose = 1)\n",
    "        \n",
    "        if scores[0] > best_score :\n",
    "            best_params = params\n",
    "            best_score = scores[0]\n",
    "    \n",
    "    if verbose > 0 :\n",
    "        print(\"\\nGrille de recherche terminée.\")\n",
    "        print(\"best_score :\", best_score)\n",
    "        print(\"best_params :\", best_params)\n",
    "            \n",
    "    return best_params, best_score"
   ]
  },
  {
   "cell_type": "markdown",
   "id": "481046d4",
   "metadata": {},
   "source": [
    "# Conclusion"
   ]
  },
  {
   "cell_type": "markdown",
   "id": "6675bb4f",
   "metadata": {},
   "source": [
    "## Meilleur modèle"
   ]
  },
  {
   "cell_type": "code",
   "execution_count": null,
   "id": "080dc07d",
   "metadata": {},
   "outputs": [],
   "source": []
  },
  {
   "cell_type": "markdown",
   "id": "8ef918f0",
   "metadata": {},
   "source": [
    "## Importance des features"
   ]
  },
  {
   "cell_type": "code",
   "execution_count": null,
   "id": "74d5e628",
   "metadata": {},
   "outputs": [],
   "source": [
    "def plot_feature_importances(df, max_display, title) :\n",
    "    \n",
    "    df = df.sort_values(\"importance\", ascending = False).reset_index()\n",
    "    df[\"importance_normalized\"] = df[\"importance\"] / df[\"importance\"].sum()\n",
    "\n",
    "    plt.figure(figsize = (6, 4))\n",
    "    ax = plt.subplot()\n",
    "    \n",
    "    ax.barh(list(reversed(list(df.index[:max_display]))), \n",
    "            df[\"importance_normalized\"].head(max_display), \n",
    "            align = \"center\",\n",
    "            edgecolor = \"k\")\n",
    "    \n",
    "    ax.set_yticks(list(reversed(list(df.index[:max_display]))))\n",
    "    ax.set_yticklabels(df[\"feature\"].head(max_display))\n",
    "    ax.tick_params(axis = \"y\", labelsize = 8)\n",
    "    \n",
    "    plt.xlabel(\"Importance normalisée\")\n",
    "    plt.title(title, size = 14)\n",
    "    plt.show()\n",
    "    \n",
    "    return df.drop(columns = [\"index\"])"
   ]
  },
  {
   "cell_type": "code",
   "execution_count": null,
   "id": "69dedb74",
   "metadata": {},
   "outputs": [],
   "source": [
    "lgbm_feature_importances = pd.DataFrame({\n",
    "        \"feature\" : list(processed_data[\"X_train\"].columns),\n",
    "        \"importance\" : lgbm_clf.feature_importances_\n",
    "    })\n",
    "\n",
    "title = \"LightGBM (standard) : importance globale des features\"\n",
    "lgbm_feature_importances_sorted = plot_feature_importances(lgbm_feature_importances, 15, title)"
   ]
  },
  {
   "cell_type": "code",
   "execution_count": null,
   "id": "5a650595",
   "metadata": {},
   "outputs": [],
   "source": [
    "def plot_shap_waterfall(classifier, X_test, row_index, title = None, max_display = 10) :\n",
    "\n",
    "    explainer = shap.Explainer(classifier)\n",
    "    shap_values = explainer(X_test)\n",
    "    \n",
    "    waterfall = shap.plots.waterfall(shap_values[row_index, :, 0], max_display = max_display, show = False)\n",
    "    waterfall.set_size_inches(12, 8)\n",
    "    \n",
    "    if title is None :\n",
    "        title = f\"Importance des features pour la ligne {row_index}\"\n",
    "    \n",
    "    plt.title(title, size = 20)\n",
    "    plt.show()"
   ]
  },
  {
   "cell_type": "code",
   "execution_count": null,
   "id": "3969b006",
   "metadata": {},
   "outputs": [],
   "source": [
    "row_index = 0\n",
    "\n",
    "title = f\"LightGBM (standard) : importance des features pour la ligne {row_index}\"\n",
    "plot_shap_waterfall(lgbm_clf, processed_data[\"X_test\"], row_index, title)"
   ]
  },
  {
   "cell_type": "markdown",
   "id": "61dbce44",
   "metadata": {},
   "source": [
    "## Détection du data drift"
   ]
  },
  {
   "cell_type": "code",
   "execution_count": null,
   "id": "208b5bec",
   "metadata": {},
   "outputs": [],
   "source": []
  }
 ],
 "metadata": {
  "kernelspec": {
   "display_name": "Python 3 (ipykernel)",
   "language": "python",
   "name": "python3"
  },
  "language_info": {
   "codemirror_mode": {
    "name": "ipython",
    "version": 3
   },
   "file_extension": ".py",
   "mimetype": "text/x-python",
   "name": "python",
   "nbconvert_exporter": "python",
   "pygments_lexer": "ipython3",
   "version": "3.11.5"
  },
  "toc": {
   "base_numbering": 1,
   "nav_menu": {},
   "number_sections": true,
   "sideBar": true,
   "skip_h1_title": false,
   "title_cell": "Table of Contents",
   "title_sidebar": "Contents",
   "toc_cell": false,
   "toc_position": {
    "height": "calc(100% - 180px)",
    "left": "10px",
    "top": "150px",
    "width": "294.4px"
   },
   "toc_section_display": true,
   "toc_window_display": true
  }
 },
 "nbformat": 4,
 "nbformat_minor": 5
}
