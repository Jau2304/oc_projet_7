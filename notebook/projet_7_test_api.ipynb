{
 "cells": [
  {
   "cell_type": "code",
   "execution_count": 79,
   "id": "6e2f583a",
   "metadata": {},
   "outputs": [],
   "source": [
    "import pandas as pd\n",
    "\n",
    "from sklearn.impute import SimpleImputer\n",
    "from sklearn.preprocessing import MinMaxScaler\n",
    "from imblearn.over_sampling import RandomOverSampler\n",
    "\n",
    "from lightgbm import LGBMClassifier\n",
    "import pickle\n",
    "\n",
    "import json\n",
    "import requests\n",
    "\n",
    "API_URL = \"http://127.0.0.1:5000/api\""
   ]
  },
  {
   "cell_type": "code",
   "execution_count": 43,
   "id": "1f6492f3",
   "metadata": {},
   "outputs": [
    {
     "name": "stdout",
     "output_type": "stream",
     "text": [
      "API fonctionnelle\n"
     ]
    }
   ],
   "source": [
    "response = requests.get(API_URL + \"/test\")\n",
    "print(response.text)"
   ]
  },
  {
   "cell_type": "code",
   "execution_count": 44,
   "id": "b018523e",
   "metadata": {},
   "outputs": [
    {
     "data": {
      "text/plain": [
       "{'dimensions': [10, 772]}"
      ]
     },
     "execution_count": 44,
     "metadata": {},
     "output_type": "execute_result"
    }
   ],
   "source": [
    "test_data = pd.read_csv(\"csv/preprocessed/app_test.csv\")\n",
    "json_data = test_data.head(10).to_json(orient = \"records\")\n",
    "\n",
    "response = requests.post(API_URL + \"/dimensions\", json = {\"data\" : json_data})\n",
    "response.json()"
   ]
  },
  {
   "cell_type": "code",
   "execution_count": 49,
   "id": "a1e4a6b5",
   "metadata": {},
   "outputs": [
    {
     "data": {
      "text/html": [
       "<div>\n",
       "<style scoped>\n",
       "    .dataframe tbody tr th:only-of-type {\n",
       "        vertical-align: middle;\n",
       "    }\n",
       "\n",
       "    .dataframe tbody tr th {\n",
       "        vertical-align: top;\n",
       "    }\n",
       "\n",
       "    .dataframe thead th {\n",
       "        text-align: right;\n",
       "    }\n",
       "</style>\n",
       "<table border=\"1\" class=\"dataframe\">\n",
       "  <thead>\n",
       "    <tr style=\"text-align: right;\">\n",
       "      <th></th>\n",
       "      <th>SK_ID_CURR</th>\n",
       "      <th>TARGET</th>\n",
       "    </tr>\n",
       "  </thead>\n",
       "  <tbody>\n",
       "    <tr>\n",
       "      <th>0</th>\n",
       "      <td>309296</td>\n",
       "      <td>0</td>\n",
       "    </tr>\n",
       "    <tr>\n",
       "      <th>1</th>\n",
       "      <td>316121</td>\n",
       "      <td>0</td>\n",
       "    </tr>\n",
       "    <tr>\n",
       "      <th>2</th>\n",
       "      <td>220130</td>\n",
       "      <td>0</td>\n",
       "    </tr>\n",
       "    <tr>\n",
       "      <th>3</th>\n",
       "      <td>254432</td>\n",
       "      <td>0</td>\n",
       "    </tr>\n",
       "    <tr>\n",
       "      <th>4</th>\n",
       "      <td>345565</td>\n",
       "      <td>0</td>\n",
       "    </tr>\n",
       "    <tr>\n",
       "      <th>5</th>\n",
       "      <td>125782</td>\n",
       "      <td>0</td>\n",
       "    </tr>\n",
       "    <tr>\n",
       "      <th>6</th>\n",
       "      <td>433605</td>\n",
       "      <td>0</td>\n",
       "    </tr>\n",
       "    <tr>\n",
       "      <th>7</th>\n",
       "      <td>268903</td>\n",
       "      <td>0</td>\n",
       "    </tr>\n",
       "    <tr>\n",
       "      <th>8</th>\n",
       "      <td>284617</td>\n",
       "      <td>0</td>\n",
       "    </tr>\n",
       "    <tr>\n",
       "      <th>9</th>\n",
       "      <td>131463</td>\n",
       "      <td>1</td>\n",
       "    </tr>\n",
       "  </tbody>\n",
       "</table>\n",
       "</div>"
      ],
      "text/plain": [
       "   SK_ID_CURR  TARGET\n",
       "0      309296       0\n",
       "1      316121       0\n",
       "2      220130       0\n",
       "3      254432       0\n",
       "4      345565       0\n",
       "5      125782       0\n",
       "6      433605       0\n",
       "7      268903       0\n",
       "8      284617       0\n",
       "9      131463       1"
      ]
     },
     "execution_count": 49,
     "metadata": {},
     "output_type": "execute_result"
    }
   ],
   "source": [
    "request_data = {\n",
    "    \"data\": json_data,\n",
    "    \"index\": 5\n",
    "}\n",
    "\n",
    "response = requests.post(API_URL + \"/extract\", json = request_data)\n",
    "pd.read_json(response.json())"
   ]
  },
  {
   "cell_type": "code",
   "execution_count": 87,
   "id": "52a7facc",
   "metadata": {},
   "outputs": [],
   "source": [
    "def preprocess_data(df_train, df_test, selected_features) :\n",
    "    \n",
    "    # Extraction des features avec copie\n",
    "    data = {\n",
    "        \"X_train\" : df_train[selected_features].copy(),\n",
    "        \"X_test\" : df_test[selected_features].copy(),\n",
    "        \"y_train\" : df_train[\"TARGET\"].copy(),\n",
    "        \"y_test\" : df_test[\"TARGET\"].copy(),\n",
    "        \"amt_credit_train\" : df_train[\"AMT_CREDIT\"].copy(),\n",
    "        \"amt_credit_test\" : df_test[\"AMT_CREDIT\"].copy()\n",
    "    }\n",
    "    \n",
    "    # Abandon des éventuelles colonnes n'ayant qu'une seule valeur\n",
    "    columns_to_drop = data[\"X_train\"].columns[data[\"X_train\"].nunique() == 1]\n",
    "    X_train_cleaned = data[\"X_train\"].drop(columns = columns_to_drop)\n",
    "    X_test_cleaned = data[\"X_test\"].drop(columns = columns_to_drop)\n",
    "    \n",
    "    # Imputation des valeurs manquantes par la médiane\n",
    "    imputer = SimpleImputer(strategy = \"median\")\n",
    "    X_train_imputed = imputer.fit_transform(X_train_cleaned)\n",
    "    X_test_imputed = imputer.transform(X_test_cleaned)\n",
    "    \n",
    "    # Normalisation des valeurs\n",
    "    scaler = MinMaxScaler()\n",
    "    X_train_scaled = scaler.fit_transform(X_train_imputed)\n",
    "    X_test_scaled = scaler.transform(X_test_imputed)\n",
    "    \n",
    "    # Réattribution des noms des colonnes\n",
    "    data[\"X_train\"] = pd.DataFrame(X_train_scaled, columns = X_train_cleaned.columns)\n",
    "    data[\"X_test\"] = pd.DataFrame(X_test_scaled, columns = X_test_cleaned.columns)\n",
    "    \n",
    "    return data"
   ]
  },
  {
   "cell_type": "code",
   "execution_count": 88,
   "id": "84c77fdd",
   "metadata": {},
   "outputs": [
    {
     "data": {
      "text/plain": [
       "(246005, 772)"
      ]
     },
     "execution_count": 88,
     "metadata": {},
     "output_type": "execute_result"
    }
   ],
   "source": [
    "train_data = pd.read_csv(\"csv/preprocessed/app_train.csv\")\n",
    "train_data.shape"
   ]
  },
  {
   "cell_type": "code",
   "execution_count": 91,
   "id": "4fb79700",
   "metadata": {},
   "outputs": [],
   "source": [
    "with open(\"selected_features.txt\", \"r\") as file :\n",
    "    lines = file.readlines()\n",
    "\n",
    "selected_features = [line.strip() for line in lines]\n",
    "\n",
    "processed_data = preprocess_data(train_data, test_data, selected_features)\n",
    "processed_data[\"X_test\"].to_csv(\"X_test.csv\", index = False)"
   ]
  },
  {
   "cell_type": "code",
   "execution_count": 92,
   "id": "852094f8",
   "metadata": {},
   "outputs": [
    {
     "name": "stdout",
     "output_type": "stream",
     "text": [
      "Prédictions : [{\"PREDICTION\":0},{\"PREDICTION\":0},{\"PREDICTION\":1},{\"PREDICTION\":0},{\"PREDICTION\":1},{\"PREDICTION\":0},{\"PREDICTION\":1},{\"PREDICTION\":0},{\"PREDICTION\":1},{\"PREDICTION\":0},{\"PREDICTION\":0},{\"PREDICTION\":0},{\"PREDICTION\":0},{\"PREDICTION\":0},{\"PREDICTION\":0},{\"PREDICTION\":1},{\"PREDICTION\":1},{\"PREDICTION\":0},{\"PREDICTION\":0},{\"PREDICTION\":0},{\"PREDICTION\":0},{\"PREDICTION\":1},{\"PREDICTION\":0},{\"PREDICTION\":0},{\"PREDICTION\":0},{\"PREDICTION\":1},{\"PREDICTION\":0},{\"PREDICTION\":0},{\"PREDICTION\":0},{\"PREDICTION\":1},{\"PREDICTION\":0},{\"PREDICTION\":0},{\"PREDICTION\":1},{\"PREDICTION\":0},{\"PREDICTION\":0},{\"PREDICTION\":0},{\"PREDICTION\":0},{\"PREDICTION\":1},{\"PREDICTION\":0},{\"PREDICTION\":0},{\"PREDICTION\":1},{\"PREDICTION\":1},{\"PREDICTION\":1},{\"PREDICTION\":1},{\"PREDICTION\":0},{\"PREDICTION\":0},{\"PREDICTION\":1},{\"PREDICTION\":1},{\"PREDICTION\":0},{\"PREDICTION\":0}]\n"
     ]
    }
   ],
   "source": [
    "json_data = processed_data[\"X_test\"].head(50).to_json(orient = \"records\")\n",
    "\n",
    "response = requests.post(API_URL + \"/predict\", json = {\"data\": json_data})\n",
    "\n",
    "predictions = response.json()\n",
    "print(\"Prédictions :\", predictions)"
   ]
  },
  {
   "cell_type": "code",
   "execution_count": null,
   "id": "e4ccd590",
   "metadata": {},
   "outputs": [],
   "source": []
  }
 ],
 "metadata": {
  "kernelspec": {
   "display_name": "Python 3 (ipykernel)",
   "language": "python",
   "name": "python3"
  },
  "language_info": {
   "codemirror_mode": {
    "name": "ipython",
    "version": 3
   },
   "file_extension": ".py",
   "mimetype": "text/x-python",
   "name": "python",
   "nbconvert_exporter": "python",
   "pygments_lexer": "ipython3",
   "version": "3.11.5"
  },
  "toc": {
   "base_numbering": 1,
   "nav_menu": {},
   "number_sections": true,
   "sideBar": true,
   "skip_h1_title": false,
   "title_cell": "Table of Contents",
   "title_sidebar": "Contents",
   "toc_cell": false,
   "toc_position": {},
   "toc_section_display": true,
   "toc_window_display": false
  }
 },
 "nbformat": 4,
 "nbformat_minor": 5
}
