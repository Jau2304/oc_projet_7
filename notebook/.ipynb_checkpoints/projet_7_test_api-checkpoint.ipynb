{
 "cells": [
  {
   "cell_type": "code",
   "execution_count": 69,
   "id": "601eb096",
   "metadata": {},
   "outputs": [],
   "source": [
    "import pandas as pd\n",
    "\n",
    "from sklearn.impute import SimpleImputer\n",
    "from sklearn.preprocessing import MinMaxScaler\n",
    "from imblearn.over_sampling import RandomOverSampler\n",
    "from lightgbm import LGBMClassifier\n",
    "\n",
    "import json\n",
    "import requests\n",
    "\n",
    "API_URL = \"http://127.0.0.1:5000/api\""
   ]
  },
  {
   "cell_type": "code",
   "execution_count": 43,
   "id": "4101e170",
   "metadata": {},
   "outputs": [
    {
     "name": "stdout",
     "output_type": "stream",
     "text": [
      "API fonctionnelle\n"
     ]
    }
   ],
   "source": [
    "response = requests.get(API_URL + \"/test\")\n",
    "print(response.text)"
   ]
  },
  {
   "cell_type": "code",
   "execution_count": 44,
   "id": "5b9542e2",
   "metadata": {},
   "outputs": [
    {
     "data": {
      "text/plain": [
       "{'dimensions': [10, 772]}"
      ]
     },
     "execution_count": 44,
     "metadata": {},
     "output_type": "execute_result"
    }
   ],
   "source": [
    "test_data = pd.read_csv(\"csv/preprocessed/app_test.csv\")\n",
    "json_data = test_data.head(10).to_json(orient = \"records\")\n",
    "\n",
    "response = requests.post(API_URL + \"/dimensions\", json = {\"data\" : json_data})\n",
    "response.json()"
   ]
  },
  {
   "cell_type": "code",
   "execution_count": 49,
   "id": "5d5a174c",
   "metadata": {},
   "outputs": [
    {
     "data": {
      "text/html": [
       "<div>\n",
       "<style scoped>\n",
       "    .dataframe tbody tr th:only-of-type {\n",
       "        vertical-align: middle;\n",
       "    }\n",
       "\n",
       "    .dataframe tbody tr th {\n",
       "        vertical-align: top;\n",
       "    }\n",
       "\n",
       "    .dataframe thead th {\n",
       "        text-align: right;\n",
       "    }\n",
       "</style>\n",
       "<table border=\"1\" class=\"dataframe\">\n",
       "  <thead>\n",
       "    <tr style=\"text-align: right;\">\n",
       "      <th></th>\n",
       "      <th>SK_ID_CURR</th>\n",
       "      <th>TARGET</th>\n",
       "    </tr>\n",
       "  </thead>\n",
       "  <tbody>\n",
       "    <tr>\n",
       "      <th>0</th>\n",
       "      <td>309296</td>\n",
       "      <td>0</td>\n",
       "    </tr>\n",
       "    <tr>\n",
       "      <th>1</th>\n",
       "      <td>316121</td>\n",
       "      <td>0</td>\n",
       "    </tr>\n",
       "    <tr>\n",
       "      <th>2</th>\n",
       "      <td>220130</td>\n",
       "      <td>0</td>\n",
       "    </tr>\n",
       "    <tr>\n",
       "      <th>3</th>\n",
       "      <td>254432</td>\n",
       "      <td>0</td>\n",
       "    </tr>\n",
       "    <tr>\n",
       "      <th>4</th>\n",
       "      <td>345565</td>\n",
       "      <td>0</td>\n",
       "    </tr>\n",
       "    <tr>\n",
       "      <th>5</th>\n",
       "      <td>125782</td>\n",
       "      <td>0</td>\n",
       "    </tr>\n",
       "    <tr>\n",
       "      <th>6</th>\n",
       "      <td>433605</td>\n",
       "      <td>0</td>\n",
       "    </tr>\n",
       "    <tr>\n",
       "      <th>7</th>\n",
       "      <td>268903</td>\n",
       "      <td>0</td>\n",
       "    </tr>\n",
       "    <tr>\n",
       "      <th>8</th>\n",
       "      <td>284617</td>\n",
       "      <td>0</td>\n",
       "    </tr>\n",
       "    <tr>\n",
       "      <th>9</th>\n",
       "      <td>131463</td>\n",
       "      <td>1</td>\n",
       "    </tr>\n",
       "  </tbody>\n",
       "</table>\n",
       "</div>"
      ],
      "text/plain": [
       "   SK_ID_CURR  TARGET\n",
       "0      309296       0\n",
       "1      316121       0\n",
       "2      220130       0\n",
       "3      254432       0\n",
       "4      345565       0\n",
       "5      125782       0\n",
       "6      433605       0\n",
       "7      268903       0\n",
       "8      284617       0\n",
       "9      131463       1"
      ]
     },
     "execution_count": 49,
     "metadata": {},
     "output_type": "execute_result"
    }
   ],
   "source": [
    "request_data = {\n",
    "    \"data\": json_data,\n",
    "    \"index\": 5\n",
    "}\n",
    "\n",
    "response = requests.post(API_URL + \"/extract\", json = request_data)\n",
    "pd.read_json(response.json())"
   ]
  },
  {
   "cell_type": "code",
   "execution_count": 70,
   "id": "4aefbbbb",
   "metadata": {},
   "outputs": [],
   "source": [
    "def preprocess_data(df_train, df_test, selected_features) :\n",
    "    \n",
    "    # Extraction des features avec copie\n",
    "    data = {\n",
    "        \"X_train\" : df_train[selected_features].copy(),\n",
    "        \"X_test\" : df_test[selected_features].copy(),\n",
    "        \"y_train\" : df_train[\"TARGET\"].copy(),\n",
    "        \"y_test\" : df_test[\"TARGET\"].copy(),\n",
    "        \"amt_credit_train\" : df_train[\"AMT_CREDIT\"].copy(),\n",
    "        \"amt_credit_test\" : df_test[\"AMT_CREDIT\"].copy()\n",
    "    }\n",
    "    \n",
    "    # Abandon des éventuelles colonnes n'ayant qu'une seule valeur\n",
    "    columns_to_drop = data[\"X_train\"].columns[data[\"X_train\"].nunique() == 1]\n",
    "    X_train_cleaned = data[\"X_train\"].drop(columns = columns_to_drop)\n",
    "    X_test_cleaned = data[\"X_test\"].drop(columns = columns_to_drop)\n",
    "    \n",
    "    # Imputation des valeurs manquantes par la médiane\n",
    "    imputer = SimpleImputer(strategy = \"median\")\n",
    "    X_train_imputed = imputer.fit_transform(X_train_cleaned)\n",
    "    X_test_imputed = imputer.transform(X_test_cleaned)\n",
    "    \n",
    "    # Normalisation des valeurs\n",
    "    scaler = MinMaxScaler()\n",
    "    X_train_scaled = scaler.fit_transform(X_train_imputed)\n",
    "    X_test_scaled = scaler.transform(X_test_imputed)\n",
    "    \n",
    "    # Réattribution des noms des colonnes\n",
    "    data[\"X_train\"] = pd.DataFrame(X_train_scaled, columns = X_train_cleaned.columns)\n",
    "    data[\"X_test\"] = pd.DataFrame(X_test_scaled, columns = X_test_cleaned.columns)\n",
    "    \n",
    "    return data"
   ]
  },
  {
   "cell_type": "code",
   "execution_count": 71,
   "id": "9ed5713c",
   "metadata": {},
   "outputs": [],
   "source": [
    "def balance_data(processed_data, strategy = None) :\n",
    "    \n",
    "    # Copie des données fournies en argument\n",
    "    data = {name : df.copy() for name, df in processed_data.items()}\n",
    "    \n",
    "    # Sélection du sampler suivant la stratégie d'équilibrage\n",
    "    if strategy == \"over\" :\n",
    "        sampler = RandomOverSampler(random_state = 42)        \n",
    "    elif strategy == \"under\" :\n",
    "        sampler = RandomUnderSampler(random_state = 42)\n",
    "    elif strategy == \"smote\" :\n",
    "        sampler = SMOTE(random_state = 42)\n",
    "    else :\n",
    "        # Simple recopie dans le cas sans équilibrage\n",
    "        data[\"X_train_balanced\"] = data[\"X_train\"]\n",
    "        data[\"y_train_balanced\"] = data[\"y_train\"]\n",
    "        return data\n",
    "    \n",
    "    # Ajout temporaire des montants des crédits à X_train\n",
    "    data[\"X_train\"][\"temp\"] = data[\"amt_credit_train\"].copy()\n",
    "    \n",
    "    # Application du sampler\n",
    "    data[\"X_train_balanced\"], data[\"y_train_balanced\"] = sampler.fit_resample(data[\"X_train\"], data[\"y_train\"])\n",
    "    \n",
    "    # Récupération du montants des crédits\n",
    "    data[\"amt_credit_train\"] = data[\"X_train_balanced\"].pop(\"temp\")\n",
    "    data[\"X_train\"].drop(columns = [\"temp\"], inplace = True)\n",
    "        \n",
    "    return data"
   ]
  },
  {
   "cell_type": "code",
   "execution_count": 72,
   "id": "e7da62f7",
   "metadata": {},
   "outputs": [
    {
     "data": {
      "text/plain": [
       "(246005, 772)"
      ]
     },
     "execution_count": 72,
     "metadata": {},
     "output_type": "execute_result"
    }
   ],
   "source": [
    "train_data = pd.read_csv(\"csv/preprocessed/app_train.csv\")\n",
    "train_data.shape"
   ]
  },
  {
   "cell_type": "code",
   "execution_count": 73,
   "id": "46d0014c",
   "metadata": {},
   "outputs": [],
   "source": [
    "with open(\"selected_features.txt\", \"r\") as file :\n",
    "    lines = file.readlines()\n",
    "\n",
    "selected_features = [line.strip() for line in lines]"
   ]
  },
  {
   "cell_type": "code",
   "execution_count": 74,
   "id": "b31acb27",
   "metadata": {},
   "outputs": [],
   "source": [
    "processed_data = preprocess_data(train_data, test_data, selected_features)\n",
    "balanced_data = balance_data(processed_data, strategy = \"over\")"
   ]
  },
  {
   "cell_type": "code",
   "execution_count": 75,
   "id": "b8b41157",
   "metadata": {},
   "outputs": [
    {
     "ename": "NameError",
     "evalue": "name 'LGBMClassifier' is not defined",
     "output_type": "error",
     "traceback": [
      "\u001b[1;31m---------------------------------------------------------------------------\u001b[0m",
      "\u001b[1;31mNameError\u001b[0m                                 Traceback (most recent call last)",
      "Cell \u001b[1;32mIn[75], line 14\u001b[0m\n\u001b[0;32m      1\u001b[0m lgbm_params \u001b[38;5;241m=\u001b[39m {\n\u001b[0;32m      2\u001b[0m     \u001b[38;5;124m\"\u001b[39m\u001b[38;5;124mboosting_type\u001b[39m\u001b[38;5;124m\"\u001b[39m: \u001b[38;5;124m\"\u001b[39m\u001b[38;5;124mgbdt\u001b[39m\u001b[38;5;124m\"\u001b[39m,\n\u001b[0;32m      3\u001b[0m     \u001b[38;5;124m\"\u001b[39m\u001b[38;5;124mobjective\u001b[39m\u001b[38;5;124m\"\u001b[39m: \u001b[38;5;124m\"\u001b[39m\u001b[38;5;124mbinary\u001b[39m\u001b[38;5;124m\"\u001b[39m,\n\u001b[1;32m   (...)\u001b[0m\n\u001b[0;32m     11\u001b[0m     \u001b[38;5;124m\"\u001b[39m\u001b[38;5;124mrandom_state\u001b[39m\u001b[38;5;124m\"\u001b[39m : \u001b[38;5;241m42\u001b[39m\n\u001b[0;32m     12\u001b[0m }\n\u001b[1;32m---> 14\u001b[0m lgbm_clf \u001b[38;5;241m=\u001b[39m LGBMClassifier(\u001b[38;5;241m*\u001b[39m\u001b[38;5;241m*\u001b[39mlgbm_params)\n",
      "\u001b[1;31mNameError\u001b[0m: name 'LGBMClassifier' is not defined"
     ]
    }
   ],
   "source": [
    "lgbm_params = {\n",
    "    \"boosting_type\": \"gbdt\",\n",
    "    \"objective\": \"binary\",\n",
    "    \"num_leaves\" : 30,\n",
    "    \"learning_rate\" : 0.05,\n",
    "    \"feature_fraction\" : 0.9,\n",
    "    \"bagging_fraction\" : 0.8, \n",
    "    \"bagging_freq\" : 5,\n",
    "    \"n_estimators\" : 100,\n",
    "    \"verbose\" : -1,\n",
    "    \"random_state\" : 42\n",
    "}\n",
    "\n",
    "lgbm_clf = LGBMClassifier(**lgbm_params)"
   ]
  },
  {
   "cell_type": "code",
   "execution_count": null,
   "id": "cf8bf982",
   "metadata": {},
   "outputs": [],
   "source": [
    "lgbm_clf.fit(balanced_data[\"X_train_balanced\"], balanced_data[\"y_train_balanced\"])"
   ]
  },
  {
   "cell_type": "code",
   "execution_count": null,
   "id": "b3c6b82a",
   "metadata": {},
   "outputs": [],
   "source": [
    "proba_preds = classifier.predict_proba(balanced_data[\"X_test\"])[:, 1]\n",
    "binary_preds = (proba_preds >= 0.5).astype(int)"
   ]
  }
 ],
 "metadata": {
  "kernelspec": {
   "display_name": "Python 3 (ipykernel)",
   "language": "python",
   "name": "python3"
  },
  "language_info": {
   "codemirror_mode": {
    "name": "ipython",
    "version": 3
   },
   "file_extension": ".py",
   "mimetype": "text/x-python",
   "name": "python",
   "nbconvert_exporter": "python",
   "pygments_lexer": "ipython3",
   "version": "3.11.5"
  },
  "toc": {
   "base_numbering": 1,
   "nav_menu": {},
   "number_sections": true,
   "sideBar": true,
   "skip_h1_title": false,
   "title_cell": "Table of Contents",
   "title_sidebar": "Contents",
   "toc_cell": false,
   "toc_position": {},
   "toc_section_display": true,
   "toc_window_display": false
  }
 },
 "nbformat": 4,
 "nbformat_minor": 5
}
